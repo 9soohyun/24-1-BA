{
  "nbformat": 4,
  "nbformat_minor": 0,
  "metadata": {
    "colab": {
      "provenance": [],
      "mount_file_id": "1vHzGljtufKuI13mNTNdMz301z7ogSShj",
      "authorship_tag": "ABX9TyMDiYBsNkVgdEXBveF0ZlFH",
      "include_colab_link": true
    },
    "kernelspec": {
      "name": "python3",
      "display_name": "Python 3"
    },
    "language_info": {
      "name": "python"
    }
  },
  "cells": [
    {
      "cell_type": "markdown",
      "metadata": {
        "id": "view-in-github",
        "colab_type": "text"
      },
      "source": [
        "<a href=\"https://colab.research.google.com/github/9soohyun/24-1-SMBA/blob/main/3%EC%9E%A5.ipynb\" target=\"_parent\"><img src=\"https://colab.research.google.com/assets/colab-badge.svg\" alt=\"Open In Colab\"/></a>"
      ]
    },
    {
      "cell_type": "code",
      "execution_count": 1,
      "metadata": {
        "id": "G3t7gfQ-29Sx"
      },
      "outputs": [],
      "source": [
        "import os\n",
        "import pandas as pd\n",
        "import numpy as np\n",
        "from sklearn.model_selection import train_test_split\n",
        "\n",
        "base_src = 'drive/MyDrive/Colab Notebooks/추천시스템'\n",
        "u_user_src = os.path.join(base_src, 'u.user')\n",
        "u_cols = ['user_id', 'age', 'sex', 'occupation', 'zip_code']\n",
        "users = pd.read_csv(u_user_src,\n",
        "                    sep='|',\n",
        "                    names=u_cols,\n",
        "                    encoding = 'latin-1')\n",
        "users = users.set_index('user_id')\n",
        "\n",
        "u_item_src = os.path.join(base_src, 'u.item')\n",
        "i_cols = ['movie_id','title','release date','video release date',\n",
        "          'IMDB URL','unknown','Action','Adventure','Animation',\n",
        "          'Children\\'s','Comedy','Crime','Documentary','Drama','Fantasy',\n",
        "          'Film-Noir','Horror','Musical','Mystery','Romance','Sci-Fi','Thriller','War','Western']\n",
        "movies = pd.read_csv(u_item_src,\n",
        "                    sep='|',\n",
        "                    names=i_cols,\n",
        "                    encoding = 'latin-1')\n",
        "movies = movies.set_index('movie_id')\n",
        "\n",
        "u_data_src = os.path.join(base_src, 'u.data')\n",
        "r_cols = ['user_id', 'movie_id', 'rating', 'timestamp']\n",
        "ratings = pd.read_csv(u_data_src,\n",
        "                    sep='\\t',\n",
        "                    names=r_cols,\n",
        "                    encoding = 'latin-1')\n",
        "# ratings = ratings.set_index('user_id')"
      ]
    },
    {
      "cell_type": "code",
      "source": [
        "def RMSE (y_true, y_pred):\n",
        "  return np.sqrt(np.mean((np.array(y_true)-np.array(y_pred))**2))\n",
        "\n",
        "def score(model):\n",
        "  id_pairs = zip(x_test['user_id'], x_test['movie_id'])\n",
        "  y_pred = np.array([model(user,movie) for (user, movie) in id_pairs])\n",
        "  y_true = np.array(x_test['rating'])\n",
        "  return RMSE(y_true, y_pred)\n",
        "\n",
        "x = ratings.copy()\n",
        "y = ratings['user_id']\n",
        "\n",
        "x_train, x_test, y_train, y_test = train_test_split(x, y, test_size=0.25, stratify=y)\n",
        "ratings_matrix = x_train.pivot(index='user_id', columns='movie_id', values='rating')"
      ],
      "metadata": {
        "id": "BVkTP6TP3Vqk"
      },
      "execution_count": 2,
      "outputs": []
    },
    {
      "cell_type": "code",
      "source": [
        "from sklearn.metrics.pairwise import cosine_similarity\n",
        "matrix_dummy = ratings_matrix.copy().fillna(0)\n",
        "user_similarity = cosine_similarity(matrix_dummy, matrix_dummy)\n",
        "user_similarity = pd.DataFrame(user_similarity, index = ratings_matrix.index, columns=ratings_matrix.index)"
      ],
      "metadata": {
        "id": "eWxuVMn233YW"
      },
      "execution_count": 3,
      "outputs": []
    },
    {
      "cell_type": "code",
      "source": [
        "def CF_simple(user_id, movie_id):\n",
        "  if movie_id in ratings_matrix.columns:\n",
        "    sim_scores = user_similarity[user_id].copy()\n",
        "    movie_ratings = ratings_matrix[movie_id].copy()\n",
        "    none_rating_idx = movie_ratings[movie_ratings.isnull()].index\n",
        "    movie_ratings = movie_ratings.dropna()\n",
        "    sim_scores = sim_scores.drop(none_rating_idx)\n",
        "    mean_rating = np.dot(sim_scores, movie_ratings) / sim_scores.sum()\n",
        "  else:\n",
        "    mean_rating = 3.0\n",
        "  return mean_rating\n",
        "\n",
        "score(CF_simple)"
      ],
      "metadata": {
        "colab": {
          "base_uri": "https://localhost:8080/"
        },
        "id": "78-yijaa4l1H",
        "outputId": "b3c76d55-dff4-4c8a-837a-e03ef4b5c099"
      },
      "execution_count": 4,
      "outputs": [
        {
          "output_type": "execute_result",
          "data": {
            "text/plain": [
              "1.0225980179865148"
            ]
          },
          "metadata": {},
          "execution_count": 4
        }
      ]
    },
    {
      "cell_type": "code",
      "source": [
        "def score(model, neighbor_size=0):\n",
        "  id_pairs = zip(x_test['user_id'], x_test['movie_id'])\n",
        "  y_pred = np.array([model(user,movie, neighbor_size) for (user, movie) in id_pairs])\n",
        "  y_true = np.array(x_test['rating'])\n",
        "  return RMSE(y_true, y_pred)"
      ],
      "metadata": {
        "id": "zNNx3M5F6vpS"
      },
      "execution_count": 5,
      "outputs": []
    },
    {
      "cell_type": "code",
      "source": [
        "def CF_knn(user_id, movie_id, neighbor_size = 0):\n",
        "  if movie_id in ratings_matrix.columns:\n",
        "    sim_scores = user_similarity[user_id].copy()\n",
        "    movie_ratings = ratings_matrix[movie_id].copy()\n",
        "    none_rating_idx = movie_ratings[movie_ratings.isnull()].index\n",
        "    movie_ratings = movie_ratings.dropna()\n",
        "    sim_scores = sim_scores.drop(none_rating_idx)\n",
        "\n",
        "    if neighbor_size == 0:\n",
        "      mean_rating = np.dot(sim_scores, movie_ratings) / sim_scores.sum()\n",
        "\n",
        "    else:\n",
        "      if len(sim_scores) >1:\n",
        "        neighbor_size = min(neighbor_size, len(sim_scores))\n",
        "        sim_scores = np.array(sim_scores)\n",
        "        movie_ratings = np.array(movie_ratings)\n",
        "        user_idx = np.argsort(sim_scores)\n",
        "        sim_scores = sim_scores[user_idx][-neighbor_size:]\n",
        "        movie_ratings = movie_ratings[user_idx][-neighbor_size:]\n",
        "        mean_rating = np.dot(sim_scores, movie_ratings) / sim_scores.sum()\n",
        "      else:\n",
        "        mean_rating = 3.0\n",
        "  else:\n",
        "    mean_rating = 3.0\n",
        "\n",
        "  return mean_rating\n",
        "\n",
        "score(CF_knn, neighbor_size=30)"
      ],
      "metadata": {
        "colab": {
          "base_uri": "https://localhost:8080/"
        },
        "id": "0QVy9T0f8Jmj",
        "outputId": "c474158d-177a-4fd8-f930-b43c4eba35fe"
      },
      "execution_count": 6,
      "outputs": [
        {
          "output_type": "execute_result",
          "data": {
            "text/plain": [
              "1.0133484062322007"
            ]
          },
          "metadata": {},
          "execution_count": 6
        }
      ]
    },
    {
      "cell_type": "code",
      "source": [
        "rating_matrix = ratings.pivot_table(values='rating', index = 'user_id', columns = 'movie_id')\n",
        "matrix_dummy = rating_matrix.copy().fillna(0)\n",
        "user_similarity = cosine_similarity(matrix_dummy, matrix_dummy)\n",
        "user_similarity = pd.DataFrame(user_similarity, index=rating_matrix.index, columns=rating_matrix.index)\n",
        "\n",
        "def recom_movie(user_id, n_items, neighbor_size = 30):\n",
        "  user_movie = rating_matrix.loc[user_id].copy()\n",
        "\n",
        "  for movie in rating_matrix.columns:\n",
        "    if pd.notnull(user_movie.loc[movie]):\n",
        "      user_movie.loc[movie] = 0\n",
        "    else:\n",
        "      user_movie.loc[movie] = CF_knn(user_id, movie, neighbor_size)\n",
        "\n",
        "  movie_sort = user_movie.sort_values(ascending=False)[:n_items]\n",
        "  recom_movies = movies.loc[movie_sort.index]\n",
        "  recommendations = recom_movies['title']\n",
        "  return recommendations"
      ],
      "metadata": {
        "id": "Rq_BqYwa-abl"
      },
      "execution_count": 7,
      "outputs": []
    },
    {
      "cell_type": "code",
      "source": [
        "recom_movie(user_id=729, n_items=5, neighbor_size=30)"
      ],
      "metadata": {
        "colab": {
          "base_uri": "https://localhost:8080/"
        },
        "id": "7idNyR2Tin4p",
        "outputId": "9d6eb64c-a6e3-431a-96a6-12022be749eb"
      },
      "execution_count": 8,
      "outputs": [
        {
          "output_type": "execute_result",
          "data": {
            "text/plain": [
              "movie_id\n",
              "1189                      Prefontaine (1997)\n",
              "1467    Saint of Fort Washington, The (1993)\n",
              "1064                        Crossfire (1947)\n",
              "1293                         Star Kid (1997)\n",
              "1516                Wedding Gift, The (1994)\n",
              "Name: title, dtype: object"
            ]
          },
          "metadata": {},
          "execution_count": 8
        }
      ]
    },
    {
      "cell_type": "code",
      "source": [
        "for neighbor_size in[10, 20, 30, 40, 50, 60]:\n",
        "  print('Neighbor size = %d : RMSE = %.4f' %(neighbor_size, score(CF_knn, neighbor_size)))"
      ],
      "metadata": {
        "id": "M0h87KHDi6Re",
        "colab": {
          "base_uri": "https://localhost:8080/"
        },
        "outputId": "92126f01-767f-4054-a5d1-192d88da2091"
      },
      "execution_count": 9,
      "outputs": [
        {
          "output_type": "stream",
          "name": "stdout",
          "text": [
            "Neighbor size = 10 : RMSE = 1.0193\n",
            "Neighbor size = 20 : RMSE = 1.0076\n",
            "Neighbor size = 30 : RMSE = 1.0069\n",
            "Neighbor size = 40 : RMSE = 1.0069\n",
            "Neighbor size = 50 : RMSE = 1.0080\n",
            "Neighbor size = 60 : RMSE = 1.0094\n"
          ]
        }
      ]
    },
    {
      "cell_type": "code",
      "source": [],
      "metadata": {
        "id": "429kZnHVgdsr"
      },
      "execution_count": null,
      "outputs": []
    }
  ]
}